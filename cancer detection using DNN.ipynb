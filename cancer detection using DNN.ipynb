{
 "cells": [
  {
   "cell_type": "markdown",
   "id": "63a59ba5",
   "metadata": {},
   "source": [
    "# Deep Neural To Predict hand written Digit Recognition"
   ]
  },
  {
   "cell_type": "code",
   "execution_count": 7,
   "id": "a3586c80",
   "metadata": {},
   "outputs": [],
   "source": [
    "##importing Data Set"
   ]
  },
  {
   "cell_type": "code",
   "execution_count": 8,
   "id": "bfb0b2bd",
   "metadata": {},
   "outputs": [],
   "source": [
    "from sklearn.datasets import load_breast_cancer\n",
    "Data = load_breast_cancer()"
   ]
  },
  {
   "cell_type": "code",
   "execution_count": 9,
   "id": "91352968",
   "metadata": {},
   "outputs": [
    {
     "name": "stdout",
     "output_type": "stream",
     "text": [
      ".. _breast_cancer_dataset:\n",
      "\n",
      "Breast cancer wisconsin (diagnostic) dataset\n",
      "--------------------------------------------\n",
      "\n",
      "**Data Set Characteristics:**\n",
      "\n",
      "    :Number of Instances: 569\n",
      "\n",
      "    :Number of Attributes: 30 numeric, predictive attributes and the class\n",
      "\n",
      "    :Attribute Information:\n",
      "        - radius (mean of distances from center to points on the perimeter)\n",
      "        - texture (standard deviation of gray-scale values)\n",
      "        - perimeter\n",
      "        - area\n",
      "        - smoothness (local variation in radius lengths)\n",
      "        - compactness (perimeter^2 / area - 1.0)\n",
      "        - concavity (severity of concave portions of the contour)\n",
      "        - concave points (number of concave portions of the contour)\n",
      "        - symmetry\n",
      "        - fractal dimension (\"coastline approximation\" - 1)\n",
      "\n",
      "        The mean, standard error, and \"worst\" or largest (mean of the three\n",
      "        worst/largest values) of these features were computed for each image,\n",
      "        resulting in 30 features.  For instance, field 0 is Mean Radius, field\n",
      "        10 is Radius SE, field 20 is Worst Radius.\n",
      "\n",
      "        - class:\n",
      "                - WDBC-Malignant\n",
      "                - WDBC-Benign\n",
      "\n",
      "    :Summary Statistics:\n",
      "\n",
      "    ===================================== ====== ======\n",
      "                                           Min    Max\n",
      "    ===================================== ====== ======\n",
      "    radius (mean):                        6.981  28.11\n",
      "    texture (mean):                       9.71   39.28\n",
      "    perimeter (mean):                     43.79  188.5\n",
      "    area (mean):                          143.5  2501.0\n",
      "    smoothness (mean):                    0.053  0.163\n",
      "    compactness (mean):                   0.019  0.345\n",
      "    concavity (mean):                     0.0    0.427\n",
      "    concave points (mean):                0.0    0.201\n",
      "    symmetry (mean):                      0.106  0.304\n",
      "    fractal dimension (mean):             0.05   0.097\n",
      "    radius (standard error):              0.112  2.873\n",
      "    texture (standard error):             0.36   4.885\n",
      "    perimeter (standard error):           0.757  21.98\n",
      "    area (standard error):                6.802  542.2\n",
      "    smoothness (standard error):          0.002  0.031\n",
      "    compactness (standard error):         0.002  0.135\n",
      "    concavity (standard error):           0.0    0.396\n",
      "    concave points (standard error):      0.0    0.053\n",
      "    symmetry (standard error):            0.008  0.079\n",
      "    fractal dimension (standard error):   0.001  0.03\n",
      "    radius (worst):                       7.93   36.04\n",
      "    texture (worst):                      12.02  49.54\n",
      "    perimeter (worst):                    50.41  251.2\n",
      "    area (worst):                         185.2  4254.0\n",
      "    smoothness (worst):                   0.071  0.223\n",
      "    compactness (worst):                  0.027  1.058\n",
      "    concavity (worst):                    0.0    1.252\n",
      "    concave points (worst):               0.0    0.291\n",
      "    symmetry (worst):                     0.156  0.664\n",
      "    fractal dimension (worst):            0.055  0.208\n",
      "    ===================================== ====== ======\n",
      "\n",
      "    :Missing Attribute Values: None\n",
      "\n",
      "    :Class Distribution: 212 - Malignant, 357 - Benign\n",
      "\n",
      "    :Creator:  Dr. William H. Wolberg, W. Nick Street, Olvi L. Mangasarian\n",
      "\n",
      "    :Donor: Nick Street\n",
      "\n",
      "    :Date: November, 1995\n",
      "\n",
      "This is a copy of UCI ML Breast Cancer Wisconsin (Diagnostic) datasets.\n",
      "https://goo.gl/U2Uwz2\n",
      "\n",
      "Features are computed from a digitized image of a fine needle\n",
      "aspirate (FNA) of a breast mass.  They describe\n",
      "characteristics of the cell nuclei present in the image.\n",
      "\n",
      "Separating plane described above was obtained using\n",
      "Multisurface Method-Tree (MSM-T) [K. P. Bennett, \"Decision Tree\n",
      "Construction Via Linear Programming.\" Proceedings of the 4th\n",
      "Midwest Artificial Intelligence and Cognitive Science Society,\n",
      "pp. 97-101, 1992], a classification method which uses linear\n",
      "programming to construct a decision tree.  Relevant features\n",
      "were selected using an exhaustive search in the space of 1-4\n",
      "features and 1-3 separating planes.\n",
      "\n",
      "The actual linear program used to obtain the separating plane\n",
      "in the 3-dimensional space is that described in:\n",
      "[K. P. Bennett and O. L. Mangasarian: \"Robust Linear\n",
      "Programming Discrimination of Two Linearly Inseparable Sets\",\n",
      "Optimization Methods and Software 1, 1992, 23-34].\n",
      "\n",
      "This database is also available through the UW CS ftp server:\n",
      "\n",
      "ftp ftp.cs.wisc.edu\n",
      "cd math-prog/cpo-dataset/machine-learn/WDBC/\n",
      "\n",
      ".. topic:: References\n",
      "\n",
      "   - W.N. Street, W.H. Wolberg and O.L. Mangasarian. Nuclear feature extraction \n",
      "     for breast tumor diagnosis. IS&T/SPIE 1993 International Symposium on \n",
      "     Electronic Imaging: Science and Technology, volume 1905, pages 861-870,\n",
      "     San Jose, CA, 1993.\n",
      "   - O.L. Mangasarian, W.N. Street and W.H. Wolberg. Breast cancer diagnosis and \n",
      "     prognosis via linear programming. Operations Research, 43(4), pages 570-577, \n",
      "     July-August 1995.\n",
      "   - W.H. Wolberg, W.N. Street, and O.L. Mangasarian. Machine learning techniques\n",
      "     to diagnose breast cancer from fine-needle aspirates. Cancer Letters 77 (1994) \n",
      "     163-171.\n"
     ]
    }
   ],
   "source": [
    "print(Data.DESCR)"
   ]
  },
  {
   "cell_type": "code",
   "execution_count": 13,
   "id": "cf7e0823",
   "metadata": {},
   "outputs": [],
   "source": [
    "# Our aim is to find that cancer is:  \n",
    "#                                 -Malignant(Dangerous) or\n",
    "#                                 -Benign(Not Dangerous)"
   ]
  },
  {
   "cell_type": "code",
   "execution_count": 10,
   "id": "f9da94fa",
   "metadata": {},
   "outputs": [
    {
     "name": "stdout",
     "output_type": "stream",
     "text": [
      "(569, 30)\n",
      "(569,)\n"
     ]
    }
   ],
   "source": [
    "features = Data.data\n",
    "target = Data.target\n",
    "\n",
    "print(features.shape)\n",
    "print(target.shape)"
   ]
  },
  {
   "cell_type": "code",
   "execution_count": 16,
   "id": "bc8ae54b",
   "metadata": {},
   "outputs": [
    {
     "name": "stdout",
     "output_type": "stream",
     "text": [
      "(455, 30)\n",
      "(455,)\n",
      "(114, 30)\n",
      "(114,)\n"
     ]
    }
   ],
   "source": [
    "from sklearn.model_selection import train_test_split\n",
    "\n",
    "X_train, X_test, y_train, y_test = train_test_split(features, target, test_size=0.2)\n",
    "\n",
    "print(X_train.shape)\n",
    "print(y_train.shape)\n",
    "print(X_test.shape)\n",
    "print(y_test.shape)"
   ]
  },
  {
   "cell_type": "code",
   "execution_count": 18,
   "id": "0b4d1de2",
   "metadata": {},
   "outputs": [],
   "source": [
    "from tensorflow.keras.models import Sequential\n",
    "from tensorflow.keras.layers import Dense"
   ]
  },
  {
   "cell_type": "code",
   "execution_count": 19,
   "id": "f138fecf",
   "metadata": {},
   "outputs": [],
   "source": [
    "model=Sequential()\n",
    "\n",
    "model.add(Dense(32,input_dim=30,activation='relu')) \n",
    "\n",
    "model.add(Dense(64,activation='relu'))\n",
    "\n",
    "model.add(Dense(1,activation='sigmoid'))"
   ]
  },
  {
   "cell_type": "code",
   "execution_count": 22,
   "id": "bb476f99",
   "metadata": {},
   "outputs": [],
   "source": [
    "\n",
    "model.compile(loss='binary_crossentropy', optimizer='adam' ,metrics=['accuracy'])      "
   ]
  },
  {
   "cell_type": "code",
   "execution_count": 23,
   "id": "69e65b49",
   "metadata": {},
   "outputs": [
    {
     "name": "stdout",
     "output_type": "stream",
     "text": [
      "Model: \"sequential\"\n",
      "_________________________________________________________________\n",
      "Layer (type)                 Output Shape              Param #   \n",
      "=================================================================\n",
      "dense (Dense)                (None, 32)                992       \n",
      "_________________________________________________________________\n",
      "dense_1 (Dense)              (None, 64)                2112      \n",
      "_________________________________________________________________\n",
      "dense_2 (Dense)              (None, 1)                 65        \n",
      "=================================================================\n",
      "Total params: 3,169\n",
      "Trainable params: 3,169\n",
      "Non-trainable params: 0\n",
      "_________________________________________________________________\n"
     ]
    }
   ],
   "source": [
    "model.summary()"
   ]
  },
  {
   "cell_type": "code",
   "execution_count": 24,
   "id": "a3bc174e",
   "metadata": {},
   "outputs": [
    {
     "name": "stdout",
     "output_type": "stream",
     "text": [
      "Epoch 1/10\n",
      "15/15 [==============================] - 2s 4ms/step - loss: 34.4401 - accuracy: 0.3846\n",
      "Epoch 2/10\n",
      "15/15 [==============================] - 0s 712us/step - loss: 3.4156 - accuracy: 0.6725\n",
      "Epoch 3/10\n",
      "15/15 [==============================] - 0s 784us/step - loss: 1.0682 - accuracy: 0.8022\n",
      "Epoch 4/10\n",
      "15/15 [==============================] - 0s 784us/step - loss: 0.6088 - accuracy: 0.8462\n",
      "Epoch 5/10\n",
      "15/15 [==============================] - 0s 784us/step - loss: 0.4036 - accuracy: 0.8857\n",
      "Epoch 6/10\n",
      "15/15 [==============================] - 0s 783us/step - loss: 0.4143 - accuracy: 0.8857\n",
      "Epoch 7/10\n",
      "15/15 [==============================] - 0s 784us/step - loss: 0.3459 - accuracy: 0.8791\n",
      "Epoch 8/10\n",
      "15/15 [==============================] - 0s 784us/step - loss: 0.3319 - accuracy: 0.8879\n",
      "Epoch 9/10\n",
      "15/15 [==============================] - 0s 784us/step - loss: 0.3277 - accuracy: 0.8901\n",
      "Epoch 10/10\n",
      "15/15 [==============================] - 0s 784us/step - loss: 0.2994 - accuracy: 0.9011\n"
     ]
    },
    {
     "data": {
      "text/plain": [
       "<tensorflow.python.keras.callbacks.History at 0x2e5fc8dee50>"
      ]
     },
     "execution_count": 24,
     "metadata": {},
     "output_type": "execute_result"
    }
   ],
   "source": [
    "model.fit(X_train,y_train,epochs=10)"
   ]
  },
  {
   "cell_type": "code",
   "execution_count": 25,
   "id": "6e2ae4c8",
   "metadata": {},
   "outputs": [
    {
     "name": "stdout",
     "output_type": "stream",
     "text": [
      "4/4 [==============================] - 1s 665us/step - loss: 0.3921 - accuracy: 0.9474\n",
      "[0.3921380341053009, 0.9473684430122375]\n"
     ]
    }
   ],
   "source": [
    "\n",
    "scores= model.evaluate(X_test,y_test)\n",
    "print(scores)"
   ]
  },
  {
   "cell_type": "code",
   "execution_count": 44,
   "id": "6e2d88fd",
   "metadata": {},
   "outputs": [
    {
     "name": "stdout",
     "output_type": "stream",
     "text": [
      "Benign\n",
      "Benign\n",
      "Malignent\n",
      "Malignent\n",
      "Benign\n",
      "Malignent\n",
      "Benign\n",
      "Malignent\n",
      "Benign\n",
      "Malignent\n",
      "Benign\n",
      "Benign\n",
      "Malignent\n",
      "Malignent\n",
      "Benign\n",
      "Malignent\n",
      "Benign\n",
      "Benign\n",
      "Malignent\n",
      "Malignent\n",
      "Malignent\n",
      "Malignent\n",
      "Malignent\n",
      "Malignent\n",
      "Malignent\n",
      "Benign\n",
      "Malignent\n",
      "Malignent\n",
      "Benign\n",
      "Malignent\n",
      "Malignent\n",
      "Benign\n",
      "Benign\n",
      "Benign\n",
      "Malignent\n",
      "Malignent\n",
      "Benign\n",
      "Malignent\n",
      "Malignent\n",
      "Malignent\n",
      "Benign\n",
      "Benign\n",
      "Malignent\n",
      "Malignent\n",
      "Benign\n",
      "Malignent\n",
      "Malignent\n",
      "Malignent\n",
      "Benign\n",
      "Malignent\n",
      "Malignent\n",
      "Malignent\n",
      "Malignent\n",
      "Malignent\n",
      "Benign\n",
      "Malignent\n",
      "Benign\n",
      "Malignent\n",
      "Malignent\n",
      "Benign\n",
      "Malignent\n",
      "Malignent\n",
      "Malignent\n",
      "Benign\n",
      "Malignent\n",
      "Malignent\n",
      "Benign\n",
      "Malignent\n",
      "Malignent\n",
      "Malignent\n",
      "Malignent\n",
      "Malignent\n",
      "Malignent\n",
      "Benign\n",
      "Benign\n",
      "Malignent\n",
      "Malignent\n",
      "Malignent\n",
      "Benign\n",
      "Malignent\n",
      "Benign\n",
      "Malignent\n",
      "Benign\n",
      "Malignent\n",
      "Malignent\n",
      "Benign\n",
      "Benign\n",
      "Benign\n",
      "Malignent\n",
      "Malignent\n",
      "Malignent\n",
      "Benign\n",
      "Malignent\n",
      "Malignent\n",
      "Benign\n",
      "Malignent\n",
      "Malignent\n",
      "Benign\n",
      "Malignent\n",
      "Benign\n",
      "Malignent\n",
      "Benign\n",
      "Malignent\n",
      "Malignent\n",
      "Malignent\n",
      "Benign\n",
      "Malignent\n",
      "Malignent\n",
      "Malignent\n",
      "Malignent\n",
      "Benign\n",
      "Benign\n",
      "Malignent\n",
      "Malignent\n"
     ]
    }
   ],
   "source": [
    "predictions = model.predict(X_test)\n",
    "#give list  \n",
    "label=[]\n",
    "for pred in predictions:\n",
    "    if pred>=0.5:\n",
    "        print(\"Malignent\")\n",
    "    else:\n",
    "        print(\"Benign\")"
   ]
  },
  {
   "cell_type": "markdown",
   "id": "ce2bc205",
   "metadata": {},
   "source": [
    "# As result we found many Malignent cases with 94% of Accuracy."
   ]
  }
 ],
 "metadata": {
  "kernelspec": {
   "display_name": "Python 3",
   "language": "python",
   "name": "python3"
  },
  "language_info": {
   "codemirror_mode": {
    "name": "ipython",
    "version": 3
   },
   "file_extension": ".py",
   "mimetype": "text/x-python",
   "name": "python",
   "nbconvert_exporter": "python",
   "pygments_lexer": "ipython3",
   "version": "3.9.4"
  }
 },
 "nbformat": 4,
 "nbformat_minor": 5
}
